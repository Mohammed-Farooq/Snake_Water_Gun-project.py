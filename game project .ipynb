{
 "cells": [
  {
   "cell_type": "code",
   "execution_count": 1,
   "id": "d9ddc727-df2b-4aec-86cc-339839cae4ec",
   "metadata": {},
   "outputs": [
    {
     "name": "stdout",
     "output_type": "stream",
     "text": [
      "comp Turn : Snake(s) Water(w) or Gun(g)?\n"
     ]
    },
    {
     "name": "stdin",
     "output_type": "stream",
     "text": [
      "your Turn : Snake(s) Water(w) or Gun(g)? s\n"
     ]
    },
    {
     "name": "stdout",
     "output_type": "stream",
     "text": [
      "computer choosen w\n",
      "you choosen s\n",
      "You win the game\n"
     ]
    }
   ],
   "source": [
    "#Water_Snake_Gun mini game project\n",
    "\n",
    "import random\n",
    "\n",
    "def gamewin(comp, you):\n",
    "    if comp == you:\n",
    "        return None\n",
    "    elif comp == 's':\n",
    "        if you == 'w':\n",
    "            return False\n",
    "    elif you == 'g':\n",
    "        return True\n",
    "    \n",
    "    elif comp == 'w':\n",
    "        if you == 's':\n",
    "            return True\n",
    "        elif you == 'g':\n",
    "            return False\n",
    "        \n",
    "    elif comp == 'g':\n",
    "        if you == 's':\n",
    "            return False\n",
    "        elif you == 'w':\n",
    "            return True\n",
    "\n",
    "\n",
    "print(\"comp Turn : Snake(s) Water(w) or Gun(g)?\")\n",
    "random = random.randint(1,4)\n",
    "\n",
    "if random == 1:\n",
    "    comp = 's'\n",
    "elif random == 2:\n",
    "    comp = 'w'\n",
    "elif random == 3:\n",
    "    comp = 'g'  \n",
    "    \n",
    "you = input(\"your Turn : Snake(s) Water(w) or Gun(g)?\")\n",
    "me = gamewin(comp, you)\n",
    "\n",
    "print(f\"computer choosen {comp}\")\n",
    "print(f\"you choosen {you}\")\n",
    "\n",
    "if me == None:\n",
    "    print(\"The game is tie!\")\n",
    "\n",
    "elif me:\n",
    " \n",
    "        print(\"You win the game\")\n",
    "else:\n",
    "        print(\"you lost the game\")"
   ]
  },
  {
   "cell_type": "code",
   "execution_count": null,
   "id": "be7c5dd6-82b6-4bb6-8b69-c63db4b8fb35",
   "metadata": {},
   "outputs": [],
   "source": []
  }
 ],
 "metadata": {
  "kernelspec": {
   "display_name": "Python 3 (ipykernel)",
   "language": "python",
   "name": "python3"
  },
  "language_info": {
   "codemirror_mode": {
    "name": "ipython",
    "version": 3
   },
   "file_extension": ".py",
   "mimetype": "text/x-python",
   "name": "python",
   "nbconvert_exporter": "python",
   "pygments_lexer": "ipython3",
   "version": "3.10.6"
  }
 },
 "nbformat": 4,
 "nbformat_minor": 5
}
